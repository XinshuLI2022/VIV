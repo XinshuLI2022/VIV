{
 "cells": [
  {
   "cell_type": "markdown",
   "metadata": {},
   "source": [
    "# 1. Genearte IV and Plug VIV into IV Regression Methods for estimating effects "
   ]
  },
  {
   "cell_type": "code",
   "execution_count": null,
   "metadata": {
    "scrolled": true
   },
   "outputs": [],
   "source": [
    "from utils import trainEnv, trainParams, Log, cat, evaluation, set_seed\n",
    "from TwinsGenerator import Generator\n",
    "from VIV.viv_twins import get_IV, generate_IV\n",
    "import time\n",
    "import numpy as np\n",
    "import pandas as pd\n",
    "import os\n",
    "import argparse\n",
    "\n",
    "def set_args():\n",
    "    argparser = argparse.ArgumentParser(description=__doc__)\n",
    "    #### Environment\n",
    "    argparser.add_argument('--seed',default=2023,type=int,help='The random seed')\n",
    "    argparser.add_argument('--clear',default=False,type=bool,help='Weather clear the txt of the dir')\n",
    "    #### Data\n",
    "    argparser.add_argument('--data',default='Twins',type=str,help='The data dir')\n",
    "    argparser.add_argument('--rho',default=0.5,type=float,help='The num of train\\val\\test dataset')\n",
    "    argparser.add_argument('--alpha',default=0.,type=float,help='The num of train\\val\\test dataset')\n",
    "    argparser.add_argument('--beta',default=1.,type=float,help='The num of train\\val\\test dataset')\n",
    "    argparser.add_argument('--num',default=10000,type=int,help='The num of sample (PM25:1343;IHDP:470)')\n",
    "    argparser.add_argument('--reps',default=10,type=int,help='The num of reps')\n",
    "    argparser.add_argument('--mX',default=2,type=int,help='The num of reps')\n",
    "    #### Model\n",
    "    argparser.add_argument('--loss_x',default=1,type=float,help='loss x')\n",
    "    argparser.add_argument('--loss_y',default=0.1,type=float,help='loss y')\n",
    "    argparser.add_argument('--loss_t',default=10,type=float,help='loss t')\n",
    "    argparser.add_argument('--kl_loss',default=0.1,type=float,help='loss kl')\n",
    "    argparser.add_argument('--ad_loss',default=10,type=float,help='loss tc')\n",
    "\n",
    "    #### Train\n",
    "    argparser.add_argument('--epochs',default=100,type=int,help='The num of epochs')\n",
    "    argparser.add_argument('--batch_size',default=100,type=int,help='The size of one batch')\n",
    "    argparser.add_argument('--rep_dim',default=100,type=int,help='The dims of embeddings')\n",
    "    argparser.add_argument('--dropout',default=0.5,type=float,help='The dropout for networks')\n",
    "    argparser.add_argument('--layers',default=[128, 64, 32],type=list,help='The per layers')\n",
    "    argparser.add_argument('--activation',default=\"relu\",type=str,help='activation')\n",
    "    argparser.add_argument('--type',default='tensor',type=str,help='The type of data')\n",
    "    argparser.add_argument('--GPU',default=True,type=bool,help='The type of data')\n",
    "    try:\n",
    "        args = argparser.parse_args()\n",
    "    except:\n",
    "        args = argparser.parse_args(args=[])\n",
    "    \n",
    "    return args\n",
    "def run_single(run, exp, data, train_dict, log, device, resultDir, others, method):\n",
    "    set_seed(train_dict['seed'])\n",
    "    start = time.time()\n",
    "    estimation = run(exp, data, train_dict, log, device, resultDir, others)\n",
    "    end = time.time()\n",
    "    train_res = evaluation(data.train, estimation, resultDir, method, 'train', exp)\n",
    "    test_res = evaluation(data.test, estimation, resultDir, method, 'test', exp)\n",
    "    print(\"exp {}: {:.2f}s\".format(exp, end-start))\n",
    "\n",
    "    return cat([train_res, test_res], 1), end-start\n",
    "\n",
    "def run_reps(run, reps, log, device, resultDir, others, key, method,args):\n",
    "    Results, Plots, Times = [], [], []\n",
    "    train_dict = Params.train_dict[key]\n",
    "    K = str(args.loss_x)+\"_\"+str(args.loss_y)+\"_\"+str(args.loss_t)+\"_\"+str(args.kl_loss)+\"_\"+str(args.ad_loss)\n",
    "    method = method.format(K)\n",
    "    if reps > train_dict['reps'] or reps <= 0: reps = train_dict['reps']\n",
    "    for exp in range(reps):\n",
    "        data = Gen.get_exp(exp)\n",
    "        iv_dir = f'{resultDir}{args.loss_x}_{args.loss_y}_{args.loss_t}_{args.kl_loss}_{args.ad_loss}/'\n",
    "        \n",
    "        if not os.path.exists(iv_dir+f'z_{exp}.npz'):\n",
    "            generate_IV(data,resultDir,exp,args,iv_dir)\n",
    "        else:\n",
    "            get_IV(data, exp,iv_dir)\n",
    "        single_result, single_time = run_single(run, exp, data, train_dict, log, device, resultDir, others, method)\n",
    "        Results.append(single_result)\n",
    "        Times.append(single_time)\n",
    "\n",
    "    Results = cat(Results,0)\n",
    "    Times = np.array(Times)\n",
    "\n",
    "    mean = np.mean(Results,axis=0, keepdims=True)\n",
    "    std = np.std(Results,axis=0,keepdims=True)\n",
    "    Results = cat([Results, mean, std], 0)\n",
    "\n",
    "    Results_df = pd.DataFrame(Results, index=list(range(len(Results)-2))+['mean','std'], columns=[f'{mode}-{loss}' for mode in ['train','test'] for loss in ['g(0)','f(0,x)','f(0,x)+u','g(s)','f(s,x)','f(s,x)+u','g(t)','f(t,x)','f(t,x)+u']]).round(4)\n",
    "    Results_df.to_csv(f'{iv_dir}{method}-{key}.csv')\n",
    "    return Results, Plots, Times, Results_df\n",
    "\n",
    "Env = trainEnv(CUDA=6,seed=2023)\n",
    "device = Env.device\n",
    "args = set_args()\n",
    "Params = trainParams(args)\n",
    "Params.save_json()\n",
    "resultDir = Params.resultDir\n",
    "\n",
    "\n",
    "log = Log(Params.log_dict)\n",
    "Gen = Generator(Params.gens_dict, G=False)\n",
    "others = {}\n"
   ]
  },
  {
   "cell_type": "code",
   "execution_count": null,
   "metadata": {},
   "outputs": [],
   "source": [
    "from Module.Instruments.TwoSLS.Poly import run as run0\n",
    "from Module.Instruments.NN.DirectNN import run as run1\n",
    "from Module.Instruments.DeepIV.DeepIV import run as run2\n",
    "from Module.Instruments.KernelIV.KernelIV import run as run3\n",
    "from Module.Instruments.OneSIV.OneSIV import run as run4\n",
    "from Module.Instruments.DeepGMM.DeepGMM import run as run5\n",
    "from Module.Instruments.AGMM.AGMM import run as run6\n",
    "\n",
    "re0 = run_reps(run0, args.reps, log, device, resultDir, others, 'nn', 'VIV{}-Poly2Stage',args)\n",
    "re1 = run_reps(run1, args.reps, log, device, resultDir, others, 'nn', 'VIV{}-NN2Stage',args)\n",
    "re2 = run_reps(run2, args.reps, log, device, resultDir, others, 'deepiv', 'VIVper{}-DeepIV',args)\n",
    "re3 = run_reps(run3, args.reps, log, device, resultDir, others, 'dfiv', 'VIV{}-KernelIV',args)\n",
    "re4 = run_reps(run4, args.reps, log, device, resultDir, others, 'onesiv', 'VIV{}-OneSIV',args)\n",
    "re5 = run_reps(run5, args.reps, log, device, resultDir, others, 'deepgmm', 'VIV{}-DeepGMM',args)\n",
    "re6 = run_reps(run6, args.reps, log, device, resultDir, others, 'agmm', 'VIV{}-AGMM',args)\n",
    "\n",
    "\n",
    "\n",
    "\n",
    "\n"
   ]
  },
  {
   "cell_type": "code",
   "execution_count": null,
   "metadata": {},
   "outputs": [],
   "source": [
    "\n"
   ]
  }
 ],
 "metadata": {
  "kernelspec": {
   "display_name": "Python 3",
   "language": "python",
   "name": "python3"
  },
  "language_info": {
   "codemirror_mode": {
    "name": "ipython",
    "version": 3
   },
   "file_extension": ".py",
   "mimetype": "text/x-python",
   "name": "python",
   "nbconvert_exporter": "python",
   "pygments_lexer": "ipython3",
   "version": "3.6.8"
  },
  "vscode": {
   "interpreter": {
    "hash": "50e73365aaf20d57985b9f1b6cf6c4c53db8cfbd49fff6a93d4b7579e7d5676d"
   }
  }
 },
 "nbformat": 4,
 "nbformat_minor": 2
}
